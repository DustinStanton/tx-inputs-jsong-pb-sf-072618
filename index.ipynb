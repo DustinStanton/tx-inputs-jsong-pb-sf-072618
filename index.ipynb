{
 "cells": [
  {
   "cell_type": "markdown",
   "metadata": {},
   "source": [
    "# Inputs\n",
    "\n",
    "Each input is an output of a previous transaction. This last sentence requires more explanation as it's not intuitively obvious at first.\n",
    "\n",
    "The inputs field can contain more than one input. This makes sense as you could use a single 100 bill to pay for a 70 dollar meal or a 50 and a 20. There are situations where there could be lots of inputs. In our analogy, we can pay for a 70 dollar meal with 14 5-dollar bills or even 7000 pennies. Each input contains 4 fields, the first two which point ot the previous transaction output and two more that define how it can be spent. These are as follows:\n",
    "\n",
    "* Previous transaction id\n",
    "* Previous transaction index\n",
    "* ScriptSig\n",
    "* Sequence\n",
    "\n",
    "As explained above, each input is actually a previous transaction's output. The previous transaction id is the double_sha256 of the previous transaction's contents. This uniquely defines the previous transaction as the probability of a hash collision is very, very small. As we'll see, each transaction has to have at least 1 output, but may have many. Thus, we need to define exactly which output we're spending.\n",
    "\n",
    "ScriptSig has to do with Bitcoin's smart contract language SCRIPT, and will be discussed more thoroughly in chapter 6. For now, think of ScriptSig as opening a lock box. Something that can only be done by the owner of the transaction output.\n",
    "\n",
    "Sequence was originally intended as a way to do payment channels (see sidebar), but is currently used with Replace-By-Fee and Check Sequence Verify.\n",
    "\n",
    "A couple things to note here. The amount of each input is actually not specified here. We have no idea how much is being spent unless we actually look up the transaction. Furthermore, we don't even know if we're signing the right check, so to speak, without knowing something about the previous transaction. Every node must verify that this transaction is actually signing the right check and that they're not overspending.\n"
   ]
  },
  {
   "cell_type": "markdown",
   "metadata": {},
   "source": [
    "### Test Driven Exercise\n",
    "\n",
    "Parse the transaction inputs"
   ]
  },
  {
   "cell_type": "code",
   "execution_count": 3,
   "metadata": {},
   "outputs": [
    {
     "ename": "SyntaxError",
     "evalue": "'return' outside function (<ipython-input-3-5d5b9e74aa66>, line 85)",
     "output_type": "error",
     "traceback": [
      "\u001b[0;36m  File \u001b[0;32m\"<ipython-input-3-5d5b9e74aa66>\"\u001b[0;36m, line \u001b[0;32m85\u001b[0m\n\u001b[0;31m    return cls(prev_tx, prev_index, script_sig, sequence)\u001b[0m\n\u001b[0m                                                         ^\u001b[0m\n\u001b[0;31mSyntaxError\u001b[0m\u001b[0;31m:\u001b[0m 'return' outside function\n"
     ]
    }
   ],
   "source": [
    "from tx import Tx, TxIn\n",
    "from helper import (\n",
    "    little_endian_to_int,\n",
    "    read_varint,\n",
    ")\n",
    "\n"
   ]
  },
  {
   "cell_type": "code",
   "execution_count": null,
   "metadata": {},
   "outputs": [],
   "source": []
  }
 ],
 "metadata": {
  "kernelspec": {
   "display_name": "Python 3",
   "language": "python",
   "name": "python3"
  },
  "language_info": {
   "codemirror_mode": {
    "name": "ipython",
    "version": 3
   },
   "file_extension": ".py",
   "mimetype": "text/x-python",
   "name": "python",
   "nbconvert_exporter": "python",
   "pygments_lexer": "ipython3",
   "version": "3.6.4"
  }
 },
 "nbformat": 4,
 "nbformat_minor": 2
}
